{
 "cells": [
  {
   "cell_type": "code",
   "execution_count": 64,
   "metadata": {},
   "outputs": [],
   "source": [
    "import joblib\n",
    "import numpy as np\n",
    "import pandas as pd\n",
    "from itertools import product  #导入点乘"
   ]
  },
  {
   "cell_type": "code",
   "execution_count": 65,
   "metadata": {},
   "outputs": [],
   "source": [
    "A_des = pd.read_csv('A_des.csv',index_col = 0)  #将我自己的第一列设置为index\n",
    "B_des = pd.read_csv('B_des.csv',index_col = 0)"
   ]
  },
  {
   "cell_type": "code",
   "execution_count": 66,
   "metadata": {},
   "outputs": [
    {
     "data": {
      "text/plain": [
       "[('FA', 'Pb'),\n",
       " ('FA', 'Sb'),\n",
       " ('FA', 'Sn'),\n",
       " ('FA', 'Ge'),\n",
       " ('FA', 'Cd'),\n",
       " ('FA', 'Cu'),\n",
       " ('EA', 'Pb'),\n",
       " ('EA', 'Sb'),\n",
       " ('EA', 'Sn'),\n",
       " ('EA', 'Ge'),\n",
       " ('EA', 'Cd'),\n",
       " ('EA', 'Cu'),\n",
       " ('MA', 'Pb'),\n",
       " ('MA', 'Sb'),\n",
       " ('MA', 'Sn'),\n",
       " ('MA', 'Ge'),\n",
       " ('MA', 'Cd'),\n",
       " ('MA', 'Cu'),\n",
       " ('NH4', 'Pb'),\n",
       " ('NH4', 'Sb'),\n",
       " ('NH4', 'Sn'),\n",
       " ('NH4', 'Ge'),\n",
       " ('NH4', 'Cd'),\n",
       " ('NH4', 'Cu'),\n",
       " ('i-PA', 'Pb'),\n",
       " ('i-PA', 'Sb'),\n",
       " ('i-PA', 'Sn'),\n",
       " ('i-PA', 'Ge'),\n",
       " ('i-PA', 'Cd'),\n",
       " ('i-PA', 'Cu')]"
      ]
     },
     "execution_count": 66,
     "metadata": {},
     "output_type": "execute_result"
    }
   ],
   "source": [
    "A_sml = A_des.index\n",
    "B_sml = B_des.index\n",
    "combination_sml = list(product(A_sml,B_sml))\n",
    "combination_sml"
   ]
  },
  {
   "cell_type": "code",
   "execution_count": 69,
   "metadata": {},
   "outputs": [],
   "source": [
    "for i,j in combination_sml:\n",
    "    #循环内的空集用来储存每一次的结果，为什么要设置两个，是因为内部循环也需要把内容转换为值的列表进行储存\n",
    "    series = A_des.loc[i,:].values.tolist() + B_des.loc[j,:].values.tolist()\n",
    "    "
   ]
  },
  {
   "cell_type": "code",
   "execution_count": 60,
   "metadata": {},
   "outputs": [
    {
     "data": {
      "text/plain": [
       "[[1, 3, 2, 4], [2, 4, 1, 3]]"
      ]
     },
     "execution_count": 60,
     "metadata": {},
     "output_type": "execute_result"
    }
   ],
   "source": [
    "series1 = A_des.iloc[0,:].values.tolist() + B_des.iloc[1,:].values.tolist()\n",
    "series1\n",
    "series1 = pd.DataFrame(series1).T  #列表转数组的时候会是一列数据，需要做一个转置\n",
    "series1.columns = A_des.columns.values.tolist() + B_des.columns.values.tolist()  #但是行名和列名都是列表形式的\n",
    "\n",
    "\n",
    "\n",
    "series2 = A_des.iloc[1,:].values.tolist() + B_des.iloc[0,:].values.tolist()\n",
    "series2 = pd.DataFrame(series2).T\n",
    "series2.columns = A_des.columns.values.tolist() + B_des.columns.values.tolist()\n",
    "\n",
    "\n",
    "\n",
    "series3 = pd.concat([series1,series2])\n",
    "series3 = series3.values.tolist()\n",
    "series3"
   ]
  },
  {
   "cell_type": "code",
   "execution_count": 61,
   "metadata": {},
   "outputs": [
    {
     "ename": "SyntaxError",
     "evalue": "invalid syntax (<ipython-input-61-c013487d06ad>, line 5)",
     "output_type": "error",
     "traceback": [
      "\u001b[1;36m  File \u001b[1;32m\"<ipython-input-61-c013487d06ad>\"\u001b[1;36m, line \u001b[1;32m5\u001b[0m\n\u001b[1;33m    for i,j in combination\u001b[0m\n\u001b[1;37m                          ^\u001b[0m\n\u001b[1;31mSyntaxError\u001b[0m\u001b[1;31m:\u001b[0m invalid syntax\n"
     ]
    }
   ],
   "source": [
    "### 下面这个代码是嘉琪发给我的高通量计算的代码\n",
    "\n",
    "#iloc与loc的差别在于，iloc是默认的顺序索引，而loc是实际名称的索引\n",
    "results = []\n",
    "#循环外的空集用来储存所有的数据\n",
    "for i,j in combination_sml:\n",
    "    result = []\n",
    "    #循环内的空集用来储存每一次的结果，为什么要设置两个，是因为内部循环也需要把内容转换为值的列表进行储存\n",
    "    series = A_des.iloc[i,:].values.tolist() + B_des.iloc[j,:].values.tolist()\n",
    "    series = pd.DataFrame(series).T \n",
    "    #此时变成一个数组是为了添加行名列名\n",
    "    series.columns = A_des.columns.values.tolist() + B_des.columns.values.tolist()\n",
    "    series.index = [i+'_'+j]\n",
    "    #series = series.loc[:,\"身高\"]  \n",
    "    #这一步是为了取出筛选之后的变量\n",
    "    pred = model.predict(series.values)[0]\n",
    "    result += [i,j,pred]\n",
    "    result += series.values.tolist()[0]\n",
    "    results.append(result)\n",
    "results = pd.DataFrame(results)\n",
    "results.columns = [\"A\",\"B\",\"pred\"]+columns\n",
    "#该处的columns依旧是指筛选之后的变量名\n",
    "results.iloc[:,2:] = results.iloc[:,2:].astype(float)\n",
    "results.to_excel(\"results.xlsx\",index=None)\n"
   ]
  },
  {
   "cell_type": "code",
   "execution_count": 63,
   "metadata": {},
   "outputs": [
    {
     "ename": "NameError",
     "evalue": "name 's' is not defined",
     "output_type": "error",
     "traceback": [
      "\u001b[1;31m---------------------------------------------------------------------------\u001b[0m",
      "\u001b[1;31mNameError\u001b[0m                                 Traceback (most recent call last)",
      "\u001b[1;32m<ipython-input-63-974e60c41b7e>\u001b[0m in \u001b[0;36m<module>\u001b[1;34m\u001b[0m\n\u001b[0;32m      1\u001b[0m \u001b[1;32mimport\u001b[0m \u001b[0mpickle\u001b[0m\u001b[1;33m\u001b[0m\u001b[1;33m\u001b[0m\u001b[0m\n\u001b[1;32m----> 2\u001b[1;33m \u001b[0mpickle\u001b[0m\u001b[1;33m.\u001b[0m\u001b[0mloads\u001b[0m\u001b[1;33m(\u001b[0m\u001b[0ms\u001b[0m\u001b[1;33m)\u001b[0m\u001b[1;33m\u001b[0m\u001b[1;33m\u001b[0m\u001b[0m\n\u001b[0m",
      "\u001b[1;31mNameError\u001b[0m: name 's' is not defined"
     ]
    }
   ],
   "source": []
  },
  {
   "cell_type": "code",
   "execution_count": null,
   "metadata": {},
   "outputs": [],
   "source": []
  }
 ],
 "metadata": {
  "kernelspec": {
   "display_name": "Python 3",
   "language": "python",
   "name": "python3"
  },
  "language_info": {
   "codemirror_mode": {
    "name": "ipython",
    "version": 3
   },
   "file_extension": ".py",
   "mimetype": "text/x-python",
   "name": "python",
   "nbconvert_exporter": "python",
   "pygments_lexer": "ipython3",
   "version": "3.7.1"
  }
 },
 "nbformat": 4,
 "nbformat_minor": 2
}
